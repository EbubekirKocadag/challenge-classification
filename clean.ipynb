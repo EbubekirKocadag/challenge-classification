{
 "metadata": {
  "language_info": {
   "codemirror_mode": {
    "name": "ipython",
    "version": 3
   },
   "file_extension": ".py",
   "mimetype": "text/x-python",
   "name": "python",
   "nbconvert_exporter": "python",
   "pygments_lexer": "ipython3",
   "version": "3.8.3-final"
  },
  "orig_nbformat": 2,
  "kernelspec": {
   "name": "python3",
   "display_name": "Python 3.8.3 64-bit",
   "metadata": {
    "interpreter": {
     "hash": "0adcc2737ebf6a4a119f135174df96668767fca1ef1112612db5ecadf2b6d608"
    }
   }
  }
 },
 "nbformat": 4,
 "nbformat_minor": 2,
 "cells": [
  {
   "source": [
    "### In this notebook, we will try to understand our dataset and clean as much as possible."
   ],
   "cell_type": "markdown",
   "metadata": {}
  },
  {
   "source": [
    "Before starting we have to import our dataset and all needed library"
   ],
   "cell_type": "markdown",
   "metadata": {}
  },
  {
   "cell_type": "code",
   "execution_count": 2,
   "metadata": {},
   "outputs": [
    {
     "output_type": "display_data",
     "data": {
      "text/plain": "<IPython.core.display.Javascript object>",
      "application/javascript": "\n            setTimeout(function() {\n                var nbb_cell_id = 2;\n                var nbb_unformatted_code = \"import pandas as pd\\nimport numpy as np\\nimport matplotlib.pyplot as plt\\n\\n%matplotlib inline\\n\\nfrom pandas_profiling import ProfileReport\\n\\n%load_ext nb_black\";\n                var nbb_formatted_code = \"import pandas as pd\\nimport numpy as np\\nimport matplotlib.pyplot as plt\\n\\n%matplotlib inline\\n\\nfrom pandas_profiling import ProfileReport\\n\\n%load_ext nb_black\";\n                var nbb_cells = Jupyter.notebook.get_cells();\n                for (var i = 0; i < nbb_cells.length; ++i) {\n                    if (nbb_cells[i].input_prompt_number == nbb_cell_id) {\n                        if (nbb_cells[i].get_text() == nbb_unformatted_code) {\n                             nbb_cells[i].set_text(nbb_formatted_code);\n                        }\n                        break;\n                    }\n                }\n            }, 500);\n            "
     },
     "metadata": {}
    }
   ],
   "source": [
    "import pandas as pd\n",
    "import numpy as np\n",
    "import matplotlib.pyplot as plt\n",
    "\n",
    "%matplotlib inline\n",
    "\n",
    "from pandas_profiling import ProfileReport\n",
    "\n",
    "%load_ext nb_black"
   ]
  },
  {
   "cell_type": "code",
   "execution_count": 3,
   "metadata": {},
   "outputs": [
    {
     "output_type": "execute_result",
     "data": {
      "text/plain": [
       "          ID  LIMIT_BAL  SEX  EDUCATION  MARRIAGE  AGE  PAY_0  PAY_2  PAY_3  \\\n",
       "0          1    20000.0    2          2         1   24      2      2     -1   \n",
       "1          2   120000.0    2          2         2   26     -1      2      0   \n",
       "2          3    90000.0    2          2         2   34      0      0      0   \n",
       "3          4    50000.0    2          2         1   37      0      0      0   \n",
       "4          5    50000.0    1          2         1   57     -1      0     -1   \n",
       "...      ...        ...  ...        ...       ...  ...    ...    ...    ...   \n",
       "29995  29996   220000.0    1          3         1   39      0      0      0   \n",
       "29996  29997   150000.0    1          3         2   43     -1     -1     -1   \n",
       "29997  29998    30000.0    1          2         2   37      4      3      2   \n",
       "29998  29999    80000.0    1          3         1   41      1     -1      0   \n",
       "29999  30000    50000.0    1          2         1   46      0      0      0   \n",
       "\n",
       "       PAY_4  ...  BILL_AMT4  BILL_AMT5  BILL_AMT6  PAY_AMT1  PAY_AMT2  \\\n",
       "0         -1  ...        0.0        0.0        0.0       0.0     689.0   \n",
       "1          0  ...     3272.0     3455.0     3261.0       0.0    1000.0   \n",
       "2          0  ...    14331.0    14948.0    15549.0    1518.0    1500.0   \n",
       "3          0  ...    28314.0    28959.0    29547.0    2000.0    2019.0   \n",
       "4          0  ...    20940.0    19146.0    19131.0    2000.0   36681.0   \n",
       "...      ...  ...        ...        ...        ...       ...       ...   \n",
       "29995      0  ...    88004.0    31237.0    15980.0    8500.0   20000.0   \n",
       "29996     -1  ...     8979.0     5190.0        0.0    1837.0    3526.0   \n",
       "29997     -1  ...    20878.0    20582.0    19357.0       0.0       0.0   \n",
       "29998      0  ...    52774.0    11855.0    48944.0   85900.0    3409.0   \n",
       "29999      0  ...    36535.0    32428.0    15313.0    2078.0    1800.0   \n",
       "\n",
       "       PAY_AMT3  PAY_AMT4  PAY_AMT5  PAY_AMT6  default.payment.next.month  \n",
       "0           0.0       0.0       0.0       0.0                           1  \n",
       "1        1000.0    1000.0       0.0    2000.0                           1  \n",
       "2        1000.0    1000.0    1000.0    5000.0                           0  \n",
       "3        1200.0    1100.0    1069.0    1000.0                           0  \n",
       "4       10000.0    9000.0     689.0     679.0                           0  \n",
       "...         ...       ...       ...       ...                         ...  \n",
       "29995    5003.0    3047.0    5000.0    1000.0                           0  \n",
       "29996    8998.0     129.0       0.0       0.0                           0  \n",
       "29997   22000.0    4200.0    2000.0    3100.0                           1  \n",
       "29998    1178.0    1926.0   52964.0    1804.0                           1  \n",
       "29999    1430.0    1000.0    1000.0    1000.0                           1  \n",
       "\n",
       "[30000 rows x 25 columns]"
      ],
      "text/html": "<div>\n<style scoped>\n    .dataframe tbody tr th:only-of-type {\n        vertical-align: middle;\n    }\n\n    .dataframe tbody tr th {\n        vertical-align: top;\n    }\n\n    .dataframe thead th {\n        text-align: right;\n    }\n</style>\n<table border=\"1\" class=\"dataframe\">\n  <thead>\n    <tr style=\"text-align: right;\">\n      <th></th>\n      <th>ID</th>\n      <th>LIMIT_BAL</th>\n      <th>SEX</th>\n      <th>EDUCATION</th>\n      <th>MARRIAGE</th>\n      <th>AGE</th>\n      <th>PAY_0</th>\n      <th>PAY_2</th>\n      <th>PAY_3</th>\n      <th>PAY_4</th>\n      <th>...</th>\n      <th>BILL_AMT4</th>\n      <th>BILL_AMT5</th>\n      <th>BILL_AMT6</th>\n      <th>PAY_AMT1</th>\n      <th>PAY_AMT2</th>\n      <th>PAY_AMT3</th>\n      <th>PAY_AMT4</th>\n      <th>PAY_AMT5</th>\n      <th>PAY_AMT6</th>\n      <th>default.payment.next.month</th>\n    </tr>\n  </thead>\n  <tbody>\n    <tr>\n      <th>0</th>\n      <td>1</td>\n      <td>20000.0</td>\n      <td>2</td>\n      <td>2</td>\n      <td>1</td>\n      <td>24</td>\n      <td>2</td>\n      <td>2</td>\n      <td>-1</td>\n      <td>-1</td>\n      <td>...</td>\n      <td>0.0</td>\n      <td>0.0</td>\n      <td>0.0</td>\n      <td>0.0</td>\n      <td>689.0</td>\n      <td>0.0</td>\n      <td>0.0</td>\n      <td>0.0</td>\n      <td>0.0</td>\n      <td>1</td>\n    </tr>\n    <tr>\n      <th>1</th>\n      <td>2</td>\n      <td>120000.0</td>\n      <td>2</td>\n      <td>2</td>\n      <td>2</td>\n      <td>26</td>\n      <td>-1</td>\n      <td>2</td>\n      <td>0</td>\n      <td>0</td>\n      <td>...</td>\n      <td>3272.0</td>\n      <td>3455.0</td>\n      <td>3261.0</td>\n      <td>0.0</td>\n      <td>1000.0</td>\n      <td>1000.0</td>\n      <td>1000.0</td>\n      <td>0.0</td>\n      <td>2000.0</td>\n      <td>1</td>\n    </tr>\n    <tr>\n      <th>2</th>\n      <td>3</td>\n      <td>90000.0</td>\n      <td>2</td>\n      <td>2</td>\n      <td>2</td>\n      <td>34</td>\n      <td>0</td>\n      <td>0</td>\n      <td>0</td>\n      <td>0</td>\n      <td>...</td>\n      <td>14331.0</td>\n      <td>14948.0</td>\n      <td>15549.0</td>\n      <td>1518.0</td>\n      <td>1500.0</td>\n      <td>1000.0</td>\n      <td>1000.0</td>\n      <td>1000.0</td>\n      <td>5000.0</td>\n      <td>0</td>\n    </tr>\n    <tr>\n      <th>3</th>\n      <td>4</td>\n      <td>50000.0</td>\n      <td>2</td>\n      <td>2</td>\n      <td>1</td>\n      <td>37</td>\n      <td>0</td>\n      <td>0</td>\n      <td>0</td>\n      <td>0</td>\n      <td>...</td>\n      <td>28314.0</td>\n      <td>28959.0</td>\n      <td>29547.0</td>\n      <td>2000.0</td>\n      <td>2019.0</td>\n      <td>1200.0</td>\n      <td>1100.0</td>\n      <td>1069.0</td>\n      <td>1000.0</td>\n      <td>0</td>\n    </tr>\n    <tr>\n      <th>4</th>\n      <td>5</td>\n      <td>50000.0</td>\n      <td>1</td>\n      <td>2</td>\n      <td>1</td>\n      <td>57</td>\n      <td>-1</td>\n      <td>0</td>\n      <td>-1</td>\n      <td>0</td>\n      <td>...</td>\n      <td>20940.0</td>\n      <td>19146.0</td>\n      <td>19131.0</td>\n      <td>2000.0</td>\n      <td>36681.0</td>\n      <td>10000.0</td>\n      <td>9000.0</td>\n      <td>689.0</td>\n      <td>679.0</td>\n      <td>0</td>\n    </tr>\n    <tr>\n      <th>...</th>\n      <td>...</td>\n      <td>...</td>\n      <td>...</td>\n      <td>...</td>\n      <td>...</td>\n      <td>...</td>\n      <td>...</td>\n      <td>...</td>\n      <td>...</td>\n      <td>...</td>\n      <td>...</td>\n      <td>...</td>\n      <td>...</td>\n      <td>...</td>\n      <td>...</td>\n      <td>...</td>\n      <td>...</td>\n      <td>...</td>\n      <td>...</td>\n      <td>...</td>\n      <td>...</td>\n    </tr>\n    <tr>\n      <th>29995</th>\n      <td>29996</td>\n      <td>220000.0</td>\n      <td>1</td>\n      <td>3</td>\n      <td>1</td>\n      <td>39</td>\n      <td>0</td>\n      <td>0</td>\n      <td>0</td>\n      <td>0</td>\n      <td>...</td>\n      <td>88004.0</td>\n      <td>31237.0</td>\n      <td>15980.0</td>\n      <td>8500.0</td>\n      <td>20000.0</td>\n      <td>5003.0</td>\n      <td>3047.0</td>\n      <td>5000.0</td>\n      <td>1000.0</td>\n      <td>0</td>\n    </tr>\n    <tr>\n      <th>29996</th>\n      <td>29997</td>\n      <td>150000.0</td>\n      <td>1</td>\n      <td>3</td>\n      <td>2</td>\n      <td>43</td>\n      <td>-1</td>\n      <td>-1</td>\n      <td>-1</td>\n      <td>-1</td>\n      <td>...</td>\n      <td>8979.0</td>\n      <td>5190.0</td>\n      <td>0.0</td>\n      <td>1837.0</td>\n      <td>3526.0</td>\n      <td>8998.0</td>\n      <td>129.0</td>\n      <td>0.0</td>\n      <td>0.0</td>\n      <td>0</td>\n    </tr>\n    <tr>\n      <th>29997</th>\n      <td>29998</td>\n      <td>30000.0</td>\n      <td>1</td>\n      <td>2</td>\n      <td>2</td>\n      <td>37</td>\n      <td>4</td>\n      <td>3</td>\n      <td>2</td>\n      <td>-1</td>\n      <td>...</td>\n      <td>20878.0</td>\n      <td>20582.0</td>\n      <td>19357.0</td>\n      <td>0.0</td>\n      <td>0.0</td>\n      <td>22000.0</td>\n      <td>4200.0</td>\n      <td>2000.0</td>\n      <td>3100.0</td>\n      <td>1</td>\n    </tr>\n    <tr>\n      <th>29998</th>\n      <td>29999</td>\n      <td>80000.0</td>\n      <td>1</td>\n      <td>3</td>\n      <td>1</td>\n      <td>41</td>\n      <td>1</td>\n      <td>-1</td>\n      <td>0</td>\n      <td>0</td>\n      <td>...</td>\n      <td>52774.0</td>\n      <td>11855.0</td>\n      <td>48944.0</td>\n      <td>85900.0</td>\n      <td>3409.0</td>\n      <td>1178.0</td>\n      <td>1926.0</td>\n      <td>52964.0</td>\n      <td>1804.0</td>\n      <td>1</td>\n    </tr>\n    <tr>\n      <th>29999</th>\n      <td>30000</td>\n      <td>50000.0</td>\n      <td>1</td>\n      <td>2</td>\n      <td>1</td>\n      <td>46</td>\n      <td>0</td>\n      <td>0</td>\n      <td>0</td>\n      <td>0</td>\n      <td>...</td>\n      <td>36535.0</td>\n      <td>32428.0</td>\n      <td>15313.0</td>\n      <td>2078.0</td>\n      <td>1800.0</td>\n      <td>1430.0</td>\n      <td>1000.0</td>\n      <td>1000.0</td>\n      <td>1000.0</td>\n      <td>1</td>\n    </tr>\n  </tbody>\n</table>\n<p>30000 rows × 25 columns</p>\n</div>"
     },
     "metadata": {},
     "execution_count": 3
    },
    {
     "output_type": "display_data",
     "data": {
      "text/plain": "<IPython.core.display.Javascript object>",
      "application/javascript": "\n            setTimeout(function() {\n                var nbb_cell_id = 3;\n                var nbb_unformatted_code = \"df = pd.read_csv('./data/UCI_Credit_Card.csv')\\ndf\";\n                var nbb_formatted_code = \"df = pd.read_csv(\\\"./data/UCI_Credit_Card.csv\\\")\\ndf\";\n                var nbb_cells = Jupyter.notebook.get_cells();\n                for (var i = 0; i < nbb_cells.length; ++i) {\n                    if (nbb_cells[i].input_prompt_number == nbb_cell_id) {\n                        if (nbb_cells[i].get_text() == nbb_unformatted_code) {\n                             nbb_cells[i].set_text(nbb_formatted_code);\n                        }\n                        break;\n                    }\n                }\n            }, 500);\n            "
     },
     "metadata": {}
    }
   ],
   "source": [
    "df = pd.read_csv('./data/UCI_Credit_Card.csv')\n",
    "df"
   ]
  },
  {
   "source": [
    "Like you can see above, we have index and ID columns so one of those columns are not needed. We choose to set ID as index because it might be necessary for the client."
   ],
   "cell_type": "markdown",
   "metadata": {}
  },
  {
   "cell_type": "code",
   "execution_count": 4,
   "metadata": {},
   "outputs": [
    {
     "output_type": "execute_result",
     "data": {
      "text/plain": [
       "       LIMIT_BAL  SEX  EDUCATION  MARRIAGE  AGE  PAY_0  PAY_2  PAY_3  PAY_4  \\\n",
       "ID                                                                            \n",
       "1        20000.0    2          2         1   24      2      2     -1     -1   \n",
       "2       120000.0    2          2         2   26     -1      2      0      0   \n",
       "3        90000.0    2          2         2   34      0      0      0      0   \n",
       "4        50000.0    2          2         1   37      0      0      0      0   \n",
       "5        50000.0    1          2         1   57     -1      0     -1      0   \n",
       "...          ...  ...        ...       ...  ...    ...    ...    ...    ...   \n",
       "29996   220000.0    1          3         1   39      0      0      0      0   \n",
       "29997   150000.0    1          3         2   43     -1     -1     -1     -1   \n",
       "29998    30000.0    1          2         2   37      4      3      2     -1   \n",
       "29999    80000.0    1          3         1   41      1     -1      0      0   \n",
       "30000    50000.0    1          2         1   46      0      0      0      0   \n",
       "\n",
       "       PAY_5  ...  BILL_AMT4  BILL_AMT5  BILL_AMT6  PAY_AMT1  PAY_AMT2  \\\n",
       "ID            ...                                                        \n",
       "1         -2  ...        0.0        0.0        0.0       0.0     689.0   \n",
       "2          0  ...     3272.0     3455.0     3261.0       0.0    1000.0   \n",
       "3          0  ...    14331.0    14948.0    15549.0    1518.0    1500.0   \n",
       "4          0  ...    28314.0    28959.0    29547.0    2000.0    2019.0   \n",
       "5          0  ...    20940.0    19146.0    19131.0    2000.0   36681.0   \n",
       "...      ...  ...        ...        ...        ...       ...       ...   \n",
       "29996      0  ...    88004.0    31237.0    15980.0    8500.0   20000.0   \n",
       "29997      0  ...     8979.0     5190.0        0.0    1837.0    3526.0   \n",
       "29998      0  ...    20878.0    20582.0    19357.0       0.0       0.0   \n",
       "29999      0  ...    52774.0    11855.0    48944.0   85900.0    3409.0   \n",
       "30000      0  ...    36535.0    32428.0    15313.0    2078.0    1800.0   \n",
       "\n",
       "       PAY_AMT3  PAY_AMT4  PAY_AMT5  PAY_AMT6  default.payment.next.month  \n",
       "ID                                                                         \n",
       "1           0.0       0.0       0.0       0.0                           1  \n",
       "2        1000.0    1000.0       0.0    2000.0                           1  \n",
       "3        1000.0    1000.0    1000.0    5000.0                           0  \n",
       "4        1200.0    1100.0    1069.0    1000.0                           0  \n",
       "5       10000.0    9000.0     689.0     679.0                           0  \n",
       "...         ...       ...       ...       ...                         ...  \n",
       "29996    5003.0    3047.0    5000.0    1000.0                           0  \n",
       "29997    8998.0     129.0       0.0       0.0                           0  \n",
       "29998   22000.0    4200.0    2000.0    3100.0                           1  \n",
       "29999    1178.0    1926.0   52964.0    1804.0                           1  \n",
       "30000    1430.0    1000.0    1000.0    1000.0                           1  \n",
       "\n",
       "[30000 rows x 24 columns]"
      ],
      "text/html": "<div>\n<style scoped>\n    .dataframe tbody tr th:only-of-type {\n        vertical-align: middle;\n    }\n\n    .dataframe tbody tr th {\n        vertical-align: top;\n    }\n\n    .dataframe thead th {\n        text-align: right;\n    }\n</style>\n<table border=\"1\" class=\"dataframe\">\n  <thead>\n    <tr style=\"text-align: right;\">\n      <th></th>\n      <th>LIMIT_BAL</th>\n      <th>SEX</th>\n      <th>EDUCATION</th>\n      <th>MARRIAGE</th>\n      <th>AGE</th>\n      <th>PAY_0</th>\n      <th>PAY_2</th>\n      <th>PAY_3</th>\n      <th>PAY_4</th>\n      <th>PAY_5</th>\n      <th>...</th>\n      <th>BILL_AMT4</th>\n      <th>BILL_AMT5</th>\n      <th>BILL_AMT6</th>\n      <th>PAY_AMT1</th>\n      <th>PAY_AMT2</th>\n      <th>PAY_AMT3</th>\n      <th>PAY_AMT4</th>\n      <th>PAY_AMT5</th>\n      <th>PAY_AMT6</th>\n      <th>default.payment.next.month</th>\n    </tr>\n    <tr>\n      <th>ID</th>\n      <th></th>\n      <th></th>\n      <th></th>\n      <th></th>\n      <th></th>\n      <th></th>\n      <th></th>\n      <th></th>\n      <th></th>\n      <th></th>\n      <th></th>\n      <th></th>\n      <th></th>\n      <th></th>\n      <th></th>\n      <th></th>\n      <th></th>\n      <th></th>\n      <th></th>\n      <th></th>\n      <th></th>\n    </tr>\n  </thead>\n  <tbody>\n    <tr>\n      <th>1</th>\n      <td>20000.0</td>\n      <td>2</td>\n      <td>2</td>\n      <td>1</td>\n      <td>24</td>\n      <td>2</td>\n      <td>2</td>\n      <td>-1</td>\n      <td>-1</td>\n      <td>-2</td>\n      <td>...</td>\n      <td>0.0</td>\n      <td>0.0</td>\n      <td>0.0</td>\n      <td>0.0</td>\n      <td>689.0</td>\n      <td>0.0</td>\n      <td>0.0</td>\n      <td>0.0</td>\n      <td>0.0</td>\n      <td>1</td>\n    </tr>\n    <tr>\n      <th>2</th>\n      <td>120000.0</td>\n      <td>2</td>\n      <td>2</td>\n      <td>2</td>\n      <td>26</td>\n      <td>-1</td>\n      <td>2</td>\n      <td>0</td>\n      <td>0</td>\n      <td>0</td>\n      <td>...</td>\n      <td>3272.0</td>\n      <td>3455.0</td>\n      <td>3261.0</td>\n      <td>0.0</td>\n      <td>1000.0</td>\n      <td>1000.0</td>\n      <td>1000.0</td>\n      <td>0.0</td>\n      <td>2000.0</td>\n      <td>1</td>\n    </tr>\n    <tr>\n      <th>3</th>\n      <td>90000.0</td>\n      <td>2</td>\n      <td>2</td>\n      <td>2</td>\n      <td>34</td>\n      <td>0</td>\n      <td>0</td>\n      <td>0</td>\n      <td>0</td>\n      <td>0</td>\n      <td>...</td>\n      <td>14331.0</td>\n      <td>14948.0</td>\n      <td>15549.0</td>\n      <td>1518.0</td>\n      <td>1500.0</td>\n      <td>1000.0</td>\n      <td>1000.0</td>\n      <td>1000.0</td>\n      <td>5000.0</td>\n      <td>0</td>\n    </tr>\n    <tr>\n      <th>4</th>\n      <td>50000.0</td>\n      <td>2</td>\n      <td>2</td>\n      <td>1</td>\n      <td>37</td>\n      <td>0</td>\n      <td>0</td>\n      <td>0</td>\n      <td>0</td>\n      <td>0</td>\n      <td>...</td>\n      <td>28314.0</td>\n      <td>28959.0</td>\n      <td>29547.0</td>\n      <td>2000.0</td>\n      <td>2019.0</td>\n      <td>1200.0</td>\n      <td>1100.0</td>\n      <td>1069.0</td>\n      <td>1000.0</td>\n      <td>0</td>\n    </tr>\n    <tr>\n      <th>5</th>\n      <td>50000.0</td>\n      <td>1</td>\n      <td>2</td>\n      <td>1</td>\n      <td>57</td>\n      <td>-1</td>\n      <td>0</td>\n      <td>-1</td>\n      <td>0</td>\n      <td>0</td>\n      <td>...</td>\n      <td>20940.0</td>\n      <td>19146.0</td>\n      <td>19131.0</td>\n      <td>2000.0</td>\n      <td>36681.0</td>\n      <td>10000.0</td>\n      <td>9000.0</td>\n      <td>689.0</td>\n      <td>679.0</td>\n      <td>0</td>\n    </tr>\n    <tr>\n      <th>...</th>\n      <td>...</td>\n      <td>...</td>\n      <td>...</td>\n      <td>...</td>\n      <td>...</td>\n      <td>...</td>\n      <td>...</td>\n      <td>...</td>\n      <td>...</td>\n      <td>...</td>\n      <td>...</td>\n      <td>...</td>\n      <td>...</td>\n      <td>...</td>\n      <td>...</td>\n      <td>...</td>\n      <td>...</td>\n      <td>...</td>\n      <td>...</td>\n      <td>...</td>\n      <td>...</td>\n    </tr>\n    <tr>\n      <th>29996</th>\n      <td>220000.0</td>\n      <td>1</td>\n      <td>3</td>\n      <td>1</td>\n      <td>39</td>\n      <td>0</td>\n      <td>0</td>\n      <td>0</td>\n      <td>0</td>\n      <td>0</td>\n      <td>...</td>\n      <td>88004.0</td>\n      <td>31237.0</td>\n      <td>15980.0</td>\n      <td>8500.0</td>\n      <td>20000.0</td>\n      <td>5003.0</td>\n      <td>3047.0</td>\n      <td>5000.0</td>\n      <td>1000.0</td>\n      <td>0</td>\n    </tr>\n    <tr>\n      <th>29997</th>\n      <td>150000.0</td>\n      <td>1</td>\n      <td>3</td>\n      <td>2</td>\n      <td>43</td>\n      <td>-1</td>\n      <td>-1</td>\n      <td>-1</td>\n      <td>-1</td>\n      <td>0</td>\n      <td>...</td>\n      <td>8979.0</td>\n      <td>5190.0</td>\n      <td>0.0</td>\n      <td>1837.0</td>\n      <td>3526.0</td>\n      <td>8998.0</td>\n      <td>129.0</td>\n      <td>0.0</td>\n      <td>0.0</td>\n      <td>0</td>\n    </tr>\n    <tr>\n      <th>29998</th>\n      <td>30000.0</td>\n      <td>1</td>\n      <td>2</td>\n      <td>2</td>\n      <td>37</td>\n      <td>4</td>\n      <td>3</td>\n      <td>2</td>\n      <td>-1</td>\n      <td>0</td>\n      <td>...</td>\n      <td>20878.0</td>\n      <td>20582.0</td>\n      <td>19357.0</td>\n      <td>0.0</td>\n      <td>0.0</td>\n      <td>22000.0</td>\n      <td>4200.0</td>\n      <td>2000.0</td>\n      <td>3100.0</td>\n      <td>1</td>\n    </tr>\n    <tr>\n      <th>29999</th>\n      <td>80000.0</td>\n      <td>1</td>\n      <td>3</td>\n      <td>1</td>\n      <td>41</td>\n      <td>1</td>\n      <td>-1</td>\n      <td>0</td>\n      <td>0</td>\n      <td>0</td>\n      <td>...</td>\n      <td>52774.0</td>\n      <td>11855.0</td>\n      <td>48944.0</td>\n      <td>85900.0</td>\n      <td>3409.0</td>\n      <td>1178.0</td>\n      <td>1926.0</td>\n      <td>52964.0</td>\n      <td>1804.0</td>\n      <td>1</td>\n    </tr>\n    <tr>\n      <th>30000</th>\n      <td>50000.0</td>\n      <td>1</td>\n      <td>2</td>\n      <td>1</td>\n      <td>46</td>\n      <td>0</td>\n      <td>0</td>\n      <td>0</td>\n      <td>0</td>\n      <td>0</td>\n      <td>...</td>\n      <td>36535.0</td>\n      <td>32428.0</td>\n      <td>15313.0</td>\n      <td>2078.0</td>\n      <td>1800.0</td>\n      <td>1430.0</td>\n      <td>1000.0</td>\n      <td>1000.0</td>\n      <td>1000.0</td>\n      <td>1</td>\n    </tr>\n  </tbody>\n</table>\n<p>30000 rows × 24 columns</p>\n</div>"
     },
     "metadata": {},
     "execution_count": 4
    },
    {
     "output_type": "display_data",
     "data": {
      "text/plain": "<IPython.core.display.Javascript object>",
      "application/javascript": "\n            setTimeout(function() {\n                var nbb_cell_id = 4;\n                var nbb_unformatted_code = \"df.set_index('ID', inplace=True)\\ndf\";\n                var nbb_formatted_code = \"df.set_index(\\\"ID\\\", inplace=True)\\ndf\";\n                var nbb_cells = Jupyter.notebook.get_cells();\n                for (var i = 0; i < nbb_cells.length; ++i) {\n                    if (nbb_cells[i].input_prompt_number == nbb_cell_id) {\n                        if (nbb_cells[i].get_text() == nbb_unformatted_code) {\n                             nbb_cells[i].set_text(nbb_formatted_code);\n                        }\n                        break;\n                    }\n                }\n            }, 500);\n            "
     },
     "metadata": {}
    }
   ],
   "source": [
    "df.set_index('ID', inplace=True)\n",
    "df"
   ]
  },
  {
   "source": [
    "Now let's see if we have some NaN value or not"
   ],
   "cell_type": "markdown",
   "metadata": {}
  },
  {
   "cell_type": "code",
   "execution_count": 5,
   "metadata": {},
   "outputs": [
    {
     "output_type": "execute_result",
     "data": {
      "text/plain": [
       "LIMIT_BAL                     0\n",
       "SEX                           0\n",
       "EDUCATION                     0\n",
       "MARRIAGE                      0\n",
       "AGE                           0\n",
       "PAY_0                         0\n",
       "PAY_2                         0\n",
       "PAY_3                         0\n",
       "PAY_4                         0\n",
       "PAY_5                         0\n",
       "PAY_6                         0\n",
       "BILL_AMT1                     0\n",
       "BILL_AMT2                     0\n",
       "BILL_AMT3                     0\n",
       "BILL_AMT4                     0\n",
       "BILL_AMT5                     0\n",
       "BILL_AMT6                     0\n",
       "PAY_AMT1                      0\n",
       "PAY_AMT2                      0\n",
       "PAY_AMT3                      0\n",
       "PAY_AMT4                      0\n",
       "PAY_AMT5                      0\n",
       "PAY_AMT6                      0\n",
       "default.payment.next.month    0\n",
       "dtype: int64"
      ]
     },
     "metadata": {},
     "execution_count": 5
    },
    {
     "output_type": "display_data",
     "data": {
      "text/plain": "<IPython.core.display.Javascript object>",
      "application/javascript": "\n            setTimeout(function() {\n                var nbb_cell_id = 5;\n                var nbb_unformatted_code = \"df.isnull().sum()\";\n                var nbb_formatted_code = \"df.isnull().sum()\";\n                var nbb_cells = Jupyter.notebook.get_cells();\n                for (var i = 0; i < nbb_cells.length; ++i) {\n                    if (nbb_cells[i].input_prompt_number == nbb_cell_id) {\n                        if (nbb_cells[i].get_text() == nbb_unformatted_code) {\n                             nbb_cells[i].set_text(nbb_formatted_code);\n                        }\n                        break;\n                    }\n                }\n            }, 500);\n            "
     },
     "metadata": {}
    }
   ],
   "source": [
    "df.isnull().sum()"
   ]
  },
  {
   "source": [
    "Like we can see we have no NaN value. Before doing our split, between target and data we will profile."
   ],
   "cell_type": "markdown",
   "metadata": {}
  },
  {
   "cell_type": "code",
   "execution_count": 5,
   "metadata": {},
   "outputs": [
    {
     "output_type": "stream",
     "name": "stderr",
     "text": [
      "Summarize dataset: 100%|██████████| 38/38 [01:14<00:00,  1.96s/it, Completed]\n",
      "Generate report structure: 100%|██████████| 1/1 [00:09<00:00,  9.80s/it]\n",
      "Render HTML: 100%|██████████| 1/1 [00:14<00:00, 14.26s/it]\n",
      "Export report to file: 100%|██████████| 1/1 [00:00<00:00, 16.44it/s]\n"
     ]
    }
   ],
   "source": [
    "profile = ProfileReport(df)\n",
    "profile.to_file(output_file='output.html')"
   ]
  },
  {
   "source": [
    "Like we can see on the profile (output.html or change profile.to_file(output_file='output.html') to profile but it will take a lot of ressources) we have some issues with our values when we check [on this site] (https://www.kaggle.com/uciml/default-of-credit-card-clients-dataset)."
   ],
   "cell_type": "markdown",
   "metadata": {}
  },
  {
   "source": [
    "#### Lets take columns by columns"
   ],
   "cell_type": "markdown",
   "metadata": {}
  },
  {
   "source": [
    "On Education columns:\n",
    "We can see that we have 6 values and we can see that 0, 4, 5 and 6 can be united in one value that we can call it others. So we decided to united them and give it the value 0."
   ],
   "cell_type": "markdown",
   "metadata": {}
  },
  {
   "cell_type": "code",
   "execution_count": 6,
   "metadata": {},
   "outputs": [
    {
     "output_type": "execute_result",
     "data": {
      "text/plain": [
       "array([2, 1, 3, 0])"
      ]
     },
     "metadata": {},
     "execution_count": 6
    },
    {
     "output_type": "display_data",
     "data": {
      "text/plain": "<IPython.core.display.Javascript object>",
      "application/javascript": "\n            setTimeout(function() {\n                var nbb_cell_id = 6;\n                var nbb_unformatted_code = \"df.loc[df['EDUCATION'] == 6,'EDUCATION'] = 0\\ndf.loc[df['EDUCATION'] == 5,'EDUCATION'] = 0\\ndf.loc[df['EDUCATION'] == 4,'EDUCATION'] = 0\\npd.unique(df['EDUCATION'])\";\n                var nbb_formatted_code = \"df.loc[df[\\\"EDUCATION\\\"] == 6, \\\"EDUCATION\\\"] = 0\\ndf.loc[df[\\\"EDUCATION\\\"] == 5, \\\"EDUCATION\\\"] = 0\\ndf.loc[df[\\\"EDUCATION\\\"] == 4, \\\"EDUCATION\\\"] = 0\\npd.unique(df[\\\"EDUCATION\\\"])\";\n                var nbb_cells = Jupyter.notebook.get_cells();\n                for (var i = 0; i < nbb_cells.length; ++i) {\n                    if (nbb_cells[i].input_prompt_number == nbb_cell_id) {\n                        if (nbb_cells[i].get_text() == nbb_unformatted_code) {\n                             nbb_cells[i].set_text(nbb_formatted_code);\n                        }\n                        break;\n                    }\n                }\n            }, 500);\n            "
     },
     "metadata": {}
    }
   ],
   "source": [
    "df.loc[df['EDUCATION'] == 6,'EDUCATION'] = 0\n",
    "df.loc[df['EDUCATION'] == 5,'EDUCATION'] = 0\n",
    "df.loc[df['EDUCATION'] == 4,'EDUCATION'] = 0\n",
    "pd.unique(df['EDUCATION'])"
   ]
  },
  {
   "source": [
    "On Marriage columns, we have 0 and 3 that can be united so we will do it because unkown or others is not reaaly apart."
   ],
   "cell_type": "markdown",
   "metadata": {}
  },
  {
   "cell_type": "code",
   "execution_count": 7,
   "metadata": {},
   "outputs": [
    {
     "output_type": "execute_result",
     "data": {
      "text/plain": [
       "array([1, 2, 0])"
      ]
     },
     "metadata": {},
     "execution_count": 7
    },
    {
     "output_type": "display_data",
     "data": {
      "text/plain": "<IPython.core.display.Javascript object>",
      "application/javascript": "\n            setTimeout(function() {\n                var nbb_cell_id = 7;\n                var nbb_unformatted_code = \"df.loc[df['MARRIAGE'] == 3,'MARRIAGE'] = 0\\npd.unique(df['MARRIAGE'])\";\n                var nbb_formatted_code = \"df.loc[df[\\\"MARRIAGE\\\"] == 3, \\\"MARRIAGE\\\"] = 0\\npd.unique(df[\\\"MARRIAGE\\\"])\";\n                var nbb_cells = Jupyter.notebook.get_cells();\n                for (var i = 0; i < nbb_cells.length; ++i) {\n                    if (nbb_cells[i].input_prompt_number == nbb_cell_id) {\n                        if (nbb_cells[i].get_text() == nbb_unformatted_code) {\n                             nbb_cells[i].set_text(nbb_formatted_code);\n                        }\n                        break;\n                    }\n                }\n            }, 500);\n            "
     },
     "metadata": {}
    }
   ],
   "source": [
    "df.loc[df['MARRIAGE'] == 3,'MARRIAGE'] = 0\n",
    "pd.unique(df['MARRIAGE'])"
   ]
  },
  {
   "source": [
    "Before to go on lets divide our X and Y and then make a new columns with the payement rate of each custumors and see how many percent usually they pay."
   ],
   "cell_type": "markdown",
   "metadata": {}
  },
  {
   "cell_type": "code",
   "execution_count": 8,
   "metadata": {},
   "outputs": [
    {
     "output_type": "display_data",
     "data": {
      "text/plain": "<IPython.core.display.Javascript object>",
      "application/javascript": "\n            setTimeout(function() {\n                var nbb_cell_id = 8;\n                var nbb_unformatted_code = \"Y = df['default.payment.next.month']\\ndf.drop('default.payment.next.month', inplace=True, axis=1)\\nX = df\";\n                var nbb_formatted_code = \"Y = df[\\\"default.payment.next.month\\\"]\\ndf.drop(\\\"default.payment.next.month\\\", inplace=True, axis=1)\\nX = df\";\n                var nbb_cells = Jupyter.notebook.get_cells();\n                for (var i = 0; i < nbb_cells.length; ++i) {\n                    if (nbb_cells[i].input_prompt_number == nbb_cell_id) {\n                        if (nbb_cells[i].get_text() == nbb_unformatted_code) {\n                             nbb_cells[i].set_text(nbb_formatted_code);\n                        }\n                        break;\n                    }\n                }\n            }, 500);\n            "
     },
     "metadata": {}
    }
   ],
   "source": [
    "Y = df['default.payment.next.month']\n",
    "df.drop('default.payment.next.month', inplace=True, axis=1)\n",
    "X = df"
   ]
  },
  {
   "cell_type": "code",
   "execution_count": 9,
   "metadata": {},
   "outputs": [
    {
     "output_type": "execute_result",
     "data": {
      "text/plain": [
       "       LIMIT_BAL  SEX  EDUCATION  MARRIAGE  AGE  PAY_0  PAY_2  PAY_3  PAY_4  \\\n",
       "ID                                                                            \n",
       "1        20000.0    2          2         1   24      2      2     -1     -1   \n",
       "2       120000.0    2          2         2   26     -1      2      0      0   \n",
       "3        90000.0    2          2         2   34      0      0      0      0   \n",
       "4        50000.0    2          2         1   37      0      0      0      0   \n",
       "5        50000.0    1          2         1   57     -1      0     -1      0   \n",
       "...          ...  ...        ...       ...  ...    ...    ...    ...    ...   \n",
       "29996   220000.0    1          3         1   39      0      0      0      0   \n",
       "29997   150000.0    1          3         2   43     -1     -1     -1     -1   \n",
       "29998    30000.0    1          2         2   37      4      3      2     -1   \n",
       "29999    80000.0    1          3         1   41      1     -1      0      0   \n",
       "30000    50000.0    1          2         1   46      0      0      0      0   \n",
       "\n",
       "       PAY_5  ...  BILL_AMT4  BILL_AMT5  BILL_AMT6  PAY_AMT1  PAY_AMT2  \\\n",
       "ID            ...                                                        \n",
       "1         -2  ...        0.0        0.0        0.0       0.0     689.0   \n",
       "2          0  ...     3272.0     3455.0     3261.0       0.0    1000.0   \n",
       "3          0  ...    14331.0    14948.0    15549.0    1518.0    1500.0   \n",
       "4          0  ...    28314.0    28959.0    29547.0    2000.0    2019.0   \n",
       "5          0  ...    20940.0    19146.0    19131.0    2000.0   36681.0   \n",
       "...      ...  ...        ...        ...        ...       ...       ...   \n",
       "29996      0  ...    88004.0    31237.0    15980.0    8500.0   20000.0   \n",
       "29997      0  ...     8979.0     5190.0        0.0    1837.0    3526.0   \n",
       "29998      0  ...    20878.0    20582.0    19357.0       0.0       0.0   \n",
       "29999      0  ...    52774.0    11855.0    48944.0   85900.0    3409.0   \n",
       "30000      0  ...    36535.0    32428.0    15313.0    2078.0    1800.0   \n",
       "\n",
       "       PAY_AMT3  PAY_AMT4  PAY_AMT5  PAY_AMT6  Mean_Payment_rate  \n",
       "ID                                                                \n",
       "1           0.0       0.0       0.0       0.0           0.800000  \n",
       "2        1000.0    1000.0       0.0    2000.0           0.193583  \n",
       "3        1000.0    1000.0    1000.0    5000.0           0.083968  \n",
       "4        1200.0    1100.0    1069.0    1000.0           0.039794  \n",
       "5       10000.0    9000.0     689.0     679.0           0.471997  \n",
       "...         ...       ...       ...       ...                ...  \n",
       "29996    5003.0    3047.0    5000.0    1000.0           0.121471  \n",
       "29997    8998.0     129.0       0.0       0.0           0.807750  \n",
       "29998   22000.0    4200.0    2000.0    3100.0           0.272225  \n",
       "29999    1178.0    1926.0   52964.0    1804.0           0.481511  \n",
       "30000    1430.0    1000.0    1000.0    1000.0           0.042789  \n",
       "\n",
       "[30000 rows x 24 columns]"
      ],
      "text/html": "<div>\n<style scoped>\n    .dataframe tbody tr th:only-of-type {\n        vertical-align: middle;\n    }\n\n    .dataframe tbody tr th {\n        vertical-align: top;\n    }\n\n    .dataframe thead th {\n        text-align: right;\n    }\n</style>\n<table border=\"1\" class=\"dataframe\">\n  <thead>\n    <tr style=\"text-align: right;\">\n      <th></th>\n      <th>LIMIT_BAL</th>\n      <th>SEX</th>\n      <th>EDUCATION</th>\n      <th>MARRIAGE</th>\n      <th>AGE</th>\n      <th>PAY_0</th>\n      <th>PAY_2</th>\n      <th>PAY_3</th>\n      <th>PAY_4</th>\n      <th>PAY_5</th>\n      <th>...</th>\n      <th>BILL_AMT4</th>\n      <th>BILL_AMT5</th>\n      <th>BILL_AMT6</th>\n      <th>PAY_AMT1</th>\n      <th>PAY_AMT2</th>\n      <th>PAY_AMT3</th>\n      <th>PAY_AMT4</th>\n      <th>PAY_AMT5</th>\n      <th>PAY_AMT6</th>\n      <th>Mean_Payment_rate</th>\n    </tr>\n    <tr>\n      <th>ID</th>\n      <th></th>\n      <th></th>\n      <th></th>\n      <th></th>\n      <th></th>\n      <th></th>\n      <th></th>\n      <th></th>\n      <th></th>\n      <th></th>\n      <th></th>\n      <th></th>\n      <th></th>\n      <th></th>\n      <th></th>\n      <th></th>\n      <th></th>\n      <th></th>\n      <th></th>\n      <th></th>\n      <th></th>\n    </tr>\n  </thead>\n  <tbody>\n    <tr>\n      <th>1</th>\n      <td>20000.0</td>\n      <td>2</td>\n      <td>2</td>\n      <td>1</td>\n      <td>24</td>\n      <td>2</td>\n      <td>2</td>\n      <td>-1</td>\n      <td>-1</td>\n      <td>-2</td>\n      <td>...</td>\n      <td>0.0</td>\n      <td>0.0</td>\n      <td>0.0</td>\n      <td>0.0</td>\n      <td>689.0</td>\n      <td>0.0</td>\n      <td>0.0</td>\n      <td>0.0</td>\n      <td>0.0</td>\n      <td>0.800000</td>\n    </tr>\n    <tr>\n      <th>2</th>\n      <td>120000.0</td>\n      <td>2</td>\n      <td>2</td>\n      <td>2</td>\n      <td>26</td>\n      <td>-1</td>\n      <td>2</td>\n      <td>0</td>\n      <td>0</td>\n      <td>0</td>\n      <td>...</td>\n      <td>3272.0</td>\n      <td>3455.0</td>\n      <td>3261.0</td>\n      <td>0.0</td>\n      <td>1000.0</td>\n      <td>1000.0</td>\n      <td>1000.0</td>\n      <td>0.0</td>\n      <td>2000.0</td>\n      <td>0.193583</td>\n    </tr>\n    <tr>\n      <th>3</th>\n      <td>90000.0</td>\n      <td>2</td>\n      <td>2</td>\n      <td>2</td>\n      <td>34</td>\n      <td>0</td>\n      <td>0</td>\n      <td>0</td>\n      <td>0</td>\n      <td>0</td>\n      <td>...</td>\n      <td>14331.0</td>\n      <td>14948.0</td>\n      <td>15549.0</td>\n      <td>1518.0</td>\n      <td>1500.0</td>\n      <td>1000.0</td>\n      <td>1000.0</td>\n      <td>1000.0</td>\n      <td>5000.0</td>\n      <td>0.083968</td>\n    </tr>\n    <tr>\n      <th>4</th>\n      <td>50000.0</td>\n      <td>2</td>\n      <td>2</td>\n      <td>1</td>\n      <td>37</td>\n      <td>0</td>\n      <td>0</td>\n      <td>0</td>\n      <td>0</td>\n      <td>0</td>\n      <td>...</td>\n      <td>28314.0</td>\n      <td>28959.0</td>\n      <td>29547.0</td>\n      <td>2000.0</td>\n      <td>2019.0</td>\n      <td>1200.0</td>\n      <td>1100.0</td>\n      <td>1069.0</td>\n      <td>1000.0</td>\n      <td>0.039794</td>\n    </tr>\n    <tr>\n      <th>5</th>\n      <td>50000.0</td>\n      <td>1</td>\n      <td>2</td>\n      <td>1</td>\n      <td>57</td>\n      <td>-1</td>\n      <td>0</td>\n      <td>-1</td>\n      <td>0</td>\n      <td>0</td>\n      <td>...</td>\n      <td>20940.0</td>\n      <td>19146.0</td>\n      <td>19131.0</td>\n      <td>2000.0</td>\n      <td>36681.0</td>\n      <td>10000.0</td>\n      <td>9000.0</td>\n      <td>689.0</td>\n      <td>679.0</td>\n      <td>0.471997</td>\n    </tr>\n    <tr>\n      <th>...</th>\n      <td>...</td>\n      <td>...</td>\n      <td>...</td>\n      <td>...</td>\n      <td>...</td>\n      <td>...</td>\n      <td>...</td>\n      <td>...</td>\n      <td>...</td>\n      <td>...</td>\n      <td>...</td>\n      <td>...</td>\n      <td>...</td>\n      <td>...</td>\n      <td>...</td>\n      <td>...</td>\n      <td>...</td>\n      <td>...</td>\n      <td>...</td>\n      <td>...</td>\n      <td>...</td>\n    </tr>\n    <tr>\n      <th>29996</th>\n      <td>220000.0</td>\n      <td>1</td>\n      <td>3</td>\n      <td>1</td>\n      <td>39</td>\n      <td>0</td>\n      <td>0</td>\n      <td>0</td>\n      <td>0</td>\n      <td>0</td>\n      <td>...</td>\n      <td>88004.0</td>\n      <td>31237.0</td>\n      <td>15980.0</td>\n      <td>8500.0</td>\n      <td>20000.0</td>\n      <td>5003.0</td>\n      <td>3047.0</td>\n      <td>5000.0</td>\n      <td>1000.0</td>\n      <td>0.121471</td>\n    </tr>\n    <tr>\n      <th>29997</th>\n      <td>150000.0</td>\n      <td>1</td>\n      <td>3</td>\n      <td>2</td>\n      <td>43</td>\n      <td>-1</td>\n      <td>-1</td>\n      <td>-1</td>\n      <td>-1</td>\n      <td>0</td>\n      <td>...</td>\n      <td>8979.0</td>\n      <td>5190.0</td>\n      <td>0.0</td>\n      <td>1837.0</td>\n      <td>3526.0</td>\n      <td>8998.0</td>\n      <td>129.0</td>\n      <td>0.0</td>\n      <td>0.0</td>\n      <td>0.807750</td>\n    </tr>\n    <tr>\n      <th>29998</th>\n      <td>30000.0</td>\n      <td>1</td>\n      <td>2</td>\n      <td>2</td>\n      <td>37</td>\n      <td>4</td>\n      <td>3</td>\n      <td>2</td>\n      <td>-1</td>\n      <td>0</td>\n      <td>...</td>\n      <td>20878.0</td>\n      <td>20582.0</td>\n      <td>19357.0</td>\n      <td>0.0</td>\n      <td>0.0</td>\n      <td>22000.0</td>\n      <td>4200.0</td>\n      <td>2000.0</td>\n      <td>3100.0</td>\n      <td>0.272225</td>\n    </tr>\n    <tr>\n      <th>29999</th>\n      <td>80000.0</td>\n      <td>1</td>\n      <td>3</td>\n      <td>1</td>\n      <td>41</td>\n      <td>1</td>\n      <td>-1</td>\n      <td>0</td>\n      <td>0</td>\n      <td>0</td>\n      <td>...</td>\n      <td>52774.0</td>\n      <td>11855.0</td>\n      <td>48944.0</td>\n      <td>85900.0</td>\n      <td>3409.0</td>\n      <td>1178.0</td>\n      <td>1926.0</td>\n      <td>52964.0</td>\n      <td>1804.0</td>\n      <td>0.481511</td>\n    </tr>\n    <tr>\n      <th>30000</th>\n      <td>50000.0</td>\n      <td>1</td>\n      <td>2</td>\n      <td>1</td>\n      <td>46</td>\n      <td>0</td>\n      <td>0</td>\n      <td>0</td>\n      <td>0</td>\n      <td>0</td>\n      <td>...</td>\n      <td>36535.0</td>\n      <td>32428.0</td>\n      <td>15313.0</td>\n      <td>2078.0</td>\n      <td>1800.0</td>\n      <td>1430.0</td>\n      <td>1000.0</td>\n      <td>1000.0</td>\n      <td>1000.0</td>\n      <td>0.042789</td>\n    </tr>\n  </tbody>\n</table>\n<p>30000 rows × 24 columns</p>\n</div>"
     },
     "metadata": {},
     "execution_count": 9
    },
    {
     "output_type": "display_data",
     "data": {
      "text/plain": "<IPython.core.display.Javascript object>",
      "application/javascript": "\n            setTimeout(function() {\n                var nbb_cell_id = 9;\n                var nbb_unformatted_code = \"X['Mean_Payment_rate'] = 0\\nX1 = 0\\nfor i in range(5):\\n    X1 = X1 + np.where(X['BILL_AMT{}'.format(6-i)] == 0, 1, X['PAY_AMT{}'.format(5-i)]/X['BILL_AMT{}'.format(6-i)])\\nX['Mean_Payment_rate'] = X1/5\\nX\";\n                var nbb_formatted_code = \"X[\\\"Mean_Payment_rate\\\"] = 0\\nX1 = 0\\nfor i in range(5):\\n    X1 = X1 + np.where(\\n        X[\\\"BILL_AMT{}\\\".format(6 - i)] == 0,\\n        1,\\n        X[\\\"PAY_AMT{}\\\".format(5 - i)] / X[\\\"BILL_AMT{}\\\".format(6 - i)],\\n    )\\nX[\\\"Mean_Payment_rate\\\"] = X1 / 5\\nX\";\n                var nbb_cells = Jupyter.notebook.get_cells();\n                for (var i = 0; i < nbb_cells.length; ++i) {\n                    if (nbb_cells[i].input_prompt_number == nbb_cell_id) {\n                        if (nbb_cells[i].get_text() == nbb_unformatted_code) {\n                             nbb_cells[i].set_text(nbb_formatted_code);\n                        }\n                        break;\n                    }\n                }\n            }, 500);\n            "
     },
     "metadata": {}
    }
   ],
   "source": [
    "X['Mean_Payment_rate'] = 0\n",
    "X1 = 0\n",
    "for i in range(5):\n",
    "    X1 = X1 + np.where(X['BILL_AMT{}'.format(6-i)] == 0, 1, X['PAY_AMT{}'.format(5-i)]/X['BILL_AMT{}'.format(6-i)])\n",
    "X['Mean_Payment_rate'] = X1/5\n",
    "X"
   ]
  },
  {
   "source": [
    "After lot of try, we decided to add 2 new columns: Rate which is the percentage of the last bill and the limit and the mean pay that the costumer pay.\n"
   ],
   "cell_type": "markdown",
   "metadata": {}
  },
  {
   "cell_type": "code",
   "execution_count": 10,
   "metadata": {},
   "outputs": [
    {
     "output_type": "display_data",
     "data": {
      "text/plain": "<IPython.core.display.Javascript object>",
      "application/javascript": "\n            setTimeout(function() {\n                var nbb_cell_id = 10;\n                var nbb_unformatted_code = \"X['Rate'] = X['BILL_AMT1']/X['LIMIT_BAL']\";\n                var nbb_formatted_code = \"X[\\\"Rate\\\"] = X[\\\"BILL_AMT1\\\"] / X[\\\"LIMIT_BAL\\\"]\";\n                var nbb_cells = Jupyter.notebook.get_cells();\n                for (var i = 0; i < nbb_cells.length; ++i) {\n                    if (nbb_cells[i].input_prompt_number == nbb_cell_id) {\n                        if (nbb_cells[i].get_text() == nbb_unformatted_code) {\n                             nbb_cells[i].set_text(nbb_formatted_code);\n                        }\n                        break;\n                    }\n                }\n            }, 500);\n            "
     },
     "metadata": {}
    }
   ],
   "source": [
    "X['Rate'] = X['BILL_AMT1']/X['LIMIT_BAL']"
   ]
  },
  {
   "cell_type": "code",
   "execution_count": 11,
   "metadata": {},
   "outputs": [
    {
     "output_type": "display_data",
     "data": {
      "text/plain": "<IPython.core.display.Javascript object>",
      "application/javascript": "\n            setTimeout(function() {\n                var nbb_cell_id = 11;\n                var nbb_unformatted_code = \"X['Mean_Pay'] = (X['PAY_0'] + X['PAY_2'] + X['PAY_3'] + X['PAY_4'] + X['PAY_5'] + X['PAY_6'])/5\";\n                var nbb_formatted_code = \"X[\\\"Mean_Pay\\\"] = (\\n    X[\\\"PAY_0\\\"] + X[\\\"PAY_2\\\"] + X[\\\"PAY_3\\\"] + X[\\\"PAY_4\\\"] + X[\\\"PAY_5\\\"] + X[\\\"PAY_6\\\"]\\n) / 5\";\n                var nbb_cells = Jupyter.notebook.get_cells();\n                for (var i = 0; i < nbb_cells.length; ++i) {\n                    if (nbb_cells[i].input_prompt_number == nbb_cell_id) {\n                        if (nbb_cells[i].get_text() == nbb_unformatted_code) {\n                             nbb_cells[i].set_text(nbb_formatted_code);\n                        }\n                        break;\n                    }\n                }\n            }, 500);\n            "
     },
     "metadata": {}
    }
   ],
   "source": [
    "X['Mean_Pay'] = (X['PAY_0'] + X['PAY_2'] + X['PAY_3'] + X['PAY_4'] + X['PAY_5'] + X['PAY_6'])/5"
   ]
  },
  {
   "cell_type": "code",
   "execution_count": 12,
   "metadata": {},
   "outputs": [
    {
     "output_type": "display_data",
     "data": {
      "text/plain": "<IPython.core.display.Javascript object>",
      "application/javascript": "\n            setTimeout(function() {\n                var nbb_cell_id = 12;\n                var nbb_unformatted_code = \"df = X\\ndf['Target'] = Y\\ndf.to_csv('./data/final.csv')\";\n                var nbb_formatted_code = \"df = X\\ndf[\\\"Target\\\"] = Y\\ndf.to_csv(\\\"./data/final.csv\\\")\";\n                var nbb_cells = Jupyter.notebook.get_cells();\n                for (var i = 0; i < nbb_cells.length; ++i) {\n                    if (nbb_cells[i].input_prompt_number == nbb_cell_id) {\n                        if (nbb_cells[i].get_text() == nbb_unformatted_code) {\n                             nbb_cells[i].set_text(nbb_formatted_code);\n                        }\n                        break;\n                    }\n                }\n            }, 500);\n            "
     },
     "metadata": {}
    }
   ],
   "source": [
    "df = X\n",
    "df['Target'] = Y\n",
    "df.to_csv('./data/final.csv')"
   ]
  },
  {
   "cell_type": "code",
   "execution_count": 13,
   "metadata": {},
   "outputs": [
    {
     "output_type": "execute_result",
     "data": {
      "text/plain": [
       "       LIMIT_BAL  SEX  EDUCATION  MARRIAGE  AGE  PAY_0  PAY_2  PAY_3  PAY_4  \\\n",
       "ID                                                                            \n",
       "1        20000.0    2          2         1   24      2      2     -1     -1   \n",
       "2       120000.0    2          2         2   26     -1      2      0      0   \n",
       "3        90000.0    2          2         2   34      0      0      0      0   \n",
       "4        50000.0    2          2         1   37      0      0      0      0   \n",
       "5        50000.0    1          2         1   57     -1      0     -1      0   \n",
       "...          ...  ...        ...       ...  ...    ...    ...    ...    ...   \n",
       "29996   220000.0    1          3         1   39      0      0      0      0   \n",
       "29997   150000.0    1          3         2   43     -1     -1     -1     -1   \n",
       "29998    30000.0    1          2         2   37      4      3      2     -1   \n",
       "29999    80000.0    1          3         1   41      1     -1      0      0   \n",
       "30000    50000.0    1          2         1   46      0      0      0      0   \n",
       "\n",
       "       PAY_5  ...  PAY_AMT1  PAY_AMT2  PAY_AMT3  PAY_AMT4  PAY_AMT5  PAY_AMT6  \\\n",
       "ID            ...                                                               \n",
       "1         -2  ...       0.0     689.0       0.0       0.0       0.0       0.0   \n",
       "2          0  ...       0.0    1000.0    1000.0    1000.0       0.0    2000.0   \n",
       "3          0  ...    1518.0    1500.0    1000.0    1000.0    1000.0    5000.0   \n",
       "4          0  ...    2000.0    2019.0    1200.0    1100.0    1069.0    1000.0   \n",
       "5          0  ...    2000.0   36681.0   10000.0    9000.0     689.0     679.0   \n",
       "...      ...  ...       ...       ...       ...       ...       ...       ...   \n",
       "29996      0  ...    8500.0   20000.0    5003.0    3047.0    5000.0    1000.0   \n",
       "29997      0  ...    1837.0    3526.0    8998.0     129.0       0.0       0.0   \n",
       "29998      0  ...       0.0       0.0   22000.0    4200.0    2000.0    3100.0   \n",
       "29999      0  ...   85900.0    3409.0    1178.0    1926.0   52964.0    1804.0   \n",
       "30000      0  ...    2078.0    1800.0    1430.0    1000.0    1000.0    1000.0   \n",
       "\n",
       "       Mean_Payment_rate      Rate  Mean_Pay  Target  \n",
       "ID                                                    \n",
       "1               0.800000  0.195650      -0.4       1  \n",
       "2               0.193583  0.022350       0.6       1  \n",
       "3               0.083968  0.324878       0.0       0  \n",
       "4               0.039794  0.939800       0.0       0  \n",
       "5               0.471997  0.172340      -0.4       0  \n",
       "...                  ...       ...       ...     ...  \n",
       "29996           0.121471  0.858855       0.0       0  \n",
       "29997           0.807750  0.011220      -0.8       0  \n",
       "29998           0.272225  0.118833       1.6       1  \n",
       "29999           0.481511 -0.020563      -0.2       1  \n",
       "30000           0.042789  0.958580       0.0       1  \n",
       "\n",
       "[30000 rows x 27 columns]"
      ],
      "text/html": "<div>\n<style scoped>\n    .dataframe tbody tr th:only-of-type {\n        vertical-align: middle;\n    }\n\n    .dataframe tbody tr th {\n        vertical-align: top;\n    }\n\n    .dataframe thead th {\n        text-align: right;\n    }\n</style>\n<table border=\"1\" class=\"dataframe\">\n  <thead>\n    <tr style=\"text-align: right;\">\n      <th></th>\n      <th>LIMIT_BAL</th>\n      <th>SEX</th>\n      <th>EDUCATION</th>\n      <th>MARRIAGE</th>\n      <th>AGE</th>\n      <th>PAY_0</th>\n      <th>PAY_2</th>\n      <th>PAY_3</th>\n      <th>PAY_4</th>\n      <th>PAY_5</th>\n      <th>...</th>\n      <th>PAY_AMT1</th>\n      <th>PAY_AMT2</th>\n      <th>PAY_AMT3</th>\n      <th>PAY_AMT4</th>\n      <th>PAY_AMT5</th>\n      <th>PAY_AMT6</th>\n      <th>Mean_Payment_rate</th>\n      <th>Rate</th>\n      <th>Mean_Pay</th>\n      <th>Target</th>\n    </tr>\n    <tr>\n      <th>ID</th>\n      <th></th>\n      <th></th>\n      <th></th>\n      <th></th>\n      <th></th>\n      <th></th>\n      <th></th>\n      <th></th>\n      <th></th>\n      <th></th>\n      <th></th>\n      <th></th>\n      <th></th>\n      <th></th>\n      <th></th>\n      <th></th>\n      <th></th>\n      <th></th>\n      <th></th>\n      <th></th>\n      <th></th>\n    </tr>\n  </thead>\n  <tbody>\n    <tr>\n      <th>1</th>\n      <td>20000.0</td>\n      <td>2</td>\n      <td>2</td>\n      <td>1</td>\n      <td>24</td>\n      <td>2</td>\n      <td>2</td>\n      <td>-1</td>\n      <td>-1</td>\n      <td>-2</td>\n      <td>...</td>\n      <td>0.0</td>\n      <td>689.0</td>\n      <td>0.0</td>\n      <td>0.0</td>\n      <td>0.0</td>\n      <td>0.0</td>\n      <td>0.800000</td>\n      <td>0.195650</td>\n      <td>-0.4</td>\n      <td>1</td>\n    </tr>\n    <tr>\n      <th>2</th>\n      <td>120000.0</td>\n      <td>2</td>\n      <td>2</td>\n      <td>2</td>\n      <td>26</td>\n      <td>-1</td>\n      <td>2</td>\n      <td>0</td>\n      <td>0</td>\n      <td>0</td>\n      <td>...</td>\n      <td>0.0</td>\n      <td>1000.0</td>\n      <td>1000.0</td>\n      <td>1000.0</td>\n      <td>0.0</td>\n      <td>2000.0</td>\n      <td>0.193583</td>\n      <td>0.022350</td>\n      <td>0.6</td>\n      <td>1</td>\n    </tr>\n    <tr>\n      <th>3</th>\n      <td>90000.0</td>\n      <td>2</td>\n      <td>2</td>\n      <td>2</td>\n      <td>34</td>\n      <td>0</td>\n      <td>0</td>\n      <td>0</td>\n      <td>0</td>\n      <td>0</td>\n      <td>...</td>\n      <td>1518.0</td>\n      <td>1500.0</td>\n      <td>1000.0</td>\n      <td>1000.0</td>\n      <td>1000.0</td>\n      <td>5000.0</td>\n      <td>0.083968</td>\n      <td>0.324878</td>\n      <td>0.0</td>\n      <td>0</td>\n    </tr>\n    <tr>\n      <th>4</th>\n      <td>50000.0</td>\n      <td>2</td>\n      <td>2</td>\n      <td>1</td>\n      <td>37</td>\n      <td>0</td>\n      <td>0</td>\n      <td>0</td>\n      <td>0</td>\n      <td>0</td>\n      <td>...</td>\n      <td>2000.0</td>\n      <td>2019.0</td>\n      <td>1200.0</td>\n      <td>1100.0</td>\n      <td>1069.0</td>\n      <td>1000.0</td>\n      <td>0.039794</td>\n      <td>0.939800</td>\n      <td>0.0</td>\n      <td>0</td>\n    </tr>\n    <tr>\n      <th>5</th>\n      <td>50000.0</td>\n      <td>1</td>\n      <td>2</td>\n      <td>1</td>\n      <td>57</td>\n      <td>-1</td>\n      <td>0</td>\n      <td>-1</td>\n      <td>0</td>\n      <td>0</td>\n      <td>...</td>\n      <td>2000.0</td>\n      <td>36681.0</td>\n      <td>10000.0</td>\n      <td>9000.0</td>\n      <td>689.0</td>\n      <td>679.0</td>\n      <td>0.471997</td>\n      <td>0.172340</td>\n      <td>-0.4</td>\n      <td>0</td>\n    </tr>\n    <tr>\n      <th>...</th>\n      <td>...</td>\n      <td>...</td>\n      <td>...</td>\n      <td>...</td>\n      <td>...</td>\n      <td>...</td>\n      <td>...</td>\n      <td>...</td>\n      <td>...</td>\n      <td>...</td>\n      <td>...</td>\n      <td>...</td>\n      <td>...</td>\n      <td>...</td>\n      <td>...</td>\n      <td>...</td>\n      <td>...</td>\n      <td>...</td>\n      <td>...</td>\n      <td>...</td>\n      <td>...</td>\n    </tr>\n    <tr>\n      <th>29996</th>\n      <td>220000.0</td>\n      <td>1</td>\n      <td>3</td>\n      <td>1</td>\n      <td>39</td>\n      <td>0</td>\n      <td>0</td>\n      <td>0</td>\n      <td>0</td>\n      <td>0</td>\n      <td>...</td>\n      <td>8500.0</td>\n      <td>20000.0</td>\n      <td>5003.0</td>\n      <td>3047.0</td>\n      <td>5000.0</td>\n      <td>1000.0</td>\n      <td>0.121471</td>\n      <td>0.858855</td>\n      <td>0.0</td>\n      <td>0</td>\n    </tr>\n    <tr>\n      <th>29997</th>\n      <td>150000.0</td>\n      <td>1</td>\n      <td>3</td>\n      <td>2</td>\n      <td>43</td>\n      <td>-1</td>\n      <td>-1</td>\n      <td>-1</td>\n      <td>-1</td>\n      <td>0</td>\n      <td>...</td>\n      <td>1837.0</td>\n      <td>3526.0</td>\n      <td>8998.0</td>\n      <td>129.0</td>\n      <td>0.0</td>\n      <td>0.0</td>\n      <td>0.807750</td>\n      <td>0.011220</td>\n      <td>-0.8</td>\n      <td>0</td>\n    </tr>\n    <tr>\n      <th>29998</th>\n      <td>30000.0</td>\n      <td>1</td>\n      <td>2</td>\n      <td>2</td>\n      <td>37</td>\n      <td>4</td>\n      <td>3</td>\n      <td>2</td>\n      <td>-1</td>\n      <td>0</td>\n      <td>...</td>\n      <td>0.0</td>\n      <td>0.0</td>\n      <td>22000.0</td>\n      <td>4200.0</td>\n      <td>2000.0</td>\n      <td>3100.0</td>\n      <td>0.272225</td>\n      <td>0.118833</td>\n      <td>1.6</td>\n      <td>1</td>\n    </tr>\n    <tr>\n      <th>29999</th>\n      <td>80000.0</td>\n      <td>1</td>\n      <td>3</td>\n      <td>1</td>\n      <td>41</td>\n      <td>1</td>\n      <td>-1</td>\n      <td>0</td>\n      <td>0</td>\n      <td>0</td>\n      <td>...</td>\n      <td>85900.0</td>\n      <td>3409.0</td>\n      <td>1178.0</td>\n      <td>1926.0</td>\n      <td>52964.0</td>\n      <td>1804.0</td>\n      <td>0.481511</td>\n      <td>-0.020563</td>\n      <td>-0.2</td>\n      <td>1</td>\n    </tr>\n    <tr>\n      <th>30000</th>\n      <td>50000.0</td>\n      <td>1</td>\n      <td>2</td>\n      <td>1</td>\n      <td>46</td>\n      <td>0</td>\n      <td>0</td>\n      <td>0</td>\n      <td>0</td>\n      <td>0</td>\n      <td>...</td>\n      <td>2078.0</td>\n      <td>1800.0</td>\n      <td>1430.0</td>\n      <td>1000.0</td>\n      <td>1000.0</td>\n      <td>1000.0</td>\n      <td>0.042789</td>\n      <td>0.958580</td>\n      <td>0.0</td>\n      <td>1</td>\n    </tr>\n  </tbody>\n</table>\n<p>30000 rows × 27 columns</p>\n</div>"
     },
     "metadata": {},
     "execution_count": 13
    },
    {
     "output_type": "display_data",
     "data": {
      "text/plain": "<IPython.core.display.Javascript object>",
      "application/javascript": "\n            setTimeout(function() {\n                var nbb_cell_id = 13;\n                var nbb_unformatted_code = \"df\";\n                var nbb_formatted_code = \"df\";\n                var nbb_cells = Jupyter.notebook.get_cells();\n                for (var i = 0; i < nbb_cells.length; ++i) {\n                    if (nbb_cells[i].input_prompt_number == nbb_cell_id) {\n                        if (nbb_cells[i].get_text() == nbb_unformatted_code) {\n                             nbb_cells[i].set_text(nbb_formatted_code);\n                        }\n                        break;\n                    }\n                }\n            }, 500);\n            "
     },
     "metadata": {}
    }
   ],
   "source": [
    "df"
   ]
  },
  {
   "cell_type": "code",
   "execution_count": null,
   "metadata": {},
   "outputs": [],
   "source": []
  }
 ]
}