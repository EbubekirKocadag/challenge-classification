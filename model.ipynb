{
 "metadata": {
  "language_info": {
   "codemirror_mode": {
    "name": "ipython",
    "version": 3
   },
   "file_extension": ".py",
   "mimetype": "text/x-python",
   "name": "python",
   "nbconvert_exporter": "python",
   "pygments_lexer": "ipython3",
   "version": "3.8.3-final"
  },
  "orig_nbformat": 2,
  "kernelspec": {
   "name": "python3",
   "display_name": "Python 3.8.3 64-bit",
   "metadata": {
    "interpreter": {
     "hash": "0adcc2737ebf6a4a119f135174df96668767fca1ef1112612db5ecadf2b6d608"
    }
   }
  }
 },
 "nbformat": 4,
 "nbformat_minor": 2,
 "cells": [
  {
   "cell_type": "code",
   "execution_count": 13,
   "metadata": {},
   "outputs": [
    {
     "output_type": "display_data",
     "data": {
      "text/plain": "<IPython.core.display.Javascript object>",
      "application/javascript": "\n            setTimeout(function() {\n                var nbb_cell_id = 13;\n                var nbb_unformatted_code = \"import pandas as pd\\nimport numpy as np\\nimport matplotlib.pyplot as plt\\n\\n%matplotlib inline\\n\\nfrom pandas_profiling import ProfileReport\\n\\nfrom sklearn.model_selection import train_test_split, GridSearchCV\\nfrom sklearn.ensemble import RandomForestClassifier\\nfrom sklearn import datasets, metrics, tree\\nfrom sklearn.neighbors import NearestNeighbors, KNeighborsClassifier\\nfrom sklearn.metrics import classification_report\\nfrom sklearn.preprocessing import StandardScaler\\nfrom sklearn.linear_model import LogisticRegression\\nfrom sklearn.neural_network import MLPClassifier\\n\\n%load_ext nb_black\";\n                var nbb_formatted_code = \"import pandas as pd\\nimport numpy as np\\nimport matplotlib.pyplot as plt\\n\\n%matplotlib inline\\n\\nfrom pandas_profiling import ProfileReport\\n\\nfrom sklearn.model_selection import train_test_split, GridSearchCV\\nfrom sklearn.ensemble import RandomForestClassifier\\nfrom sklearn import datasets, metrics, tree\\nfrom sklearn.neighbors import NearestNeighbors, KNeighborsClassifier\\nfrom sklearn.metrics import classification_report\\nfrom sklearn.preprocessing import StandardScaler\\nfrom sklearn.linear_model import LogisticRegression\\nfrom sklearn.neural_network import MLPClassifier\\n\\n%load_ext nb_black\";\n                var nbb_cells = Jupyter.notebook.get_cells();\n                for (var i = 0; i < nbb_cells.length; ++i) {\n                    if (nbb_cells[i].input_prompt_number == nbb_cell_id) {\n                        if (nbb_cells[i].get_text() == nbb_unformatted_code) {\n                             nbb_cells[i].set_text(nbb_formatted_code);\n                        }\n                        break;\n                    }\n                }\n            }, 500);\n            "
     },
     "metadata": {}
    }
   ],
   "source": [
    "import pandas as pd\n",
    "import numpy as np\n",
    "import matplotlib.pyplot as plt\n",
    "\n",
    "%matplotlib inline\n",
    "\n",
    "from pandas_profiling import ProfileReport\n",
    "\n",
    "from sklearn.model_selection import train_test_split, GridSearchCV\n",
    "from sklearn.ensemble import RandomForestClassifier\n",
    "from sklearn import datasets, metrics, tree\n",
    "from sklearn.neighbors import NearestNeighbors, KNeighborsClassifier\n",
    "from sklearn.metrics import classification_report\n",
    "from sklearn.preprocessing import StandardScaler\n",
    "from sklearn.linear_model import LogisticRegression\n",
    "from sklearn.neural_network import MLPClassifier\n",
    "\n",
    "%load_ext nb_black"
   ]
  },
  {
   "source": [
    "In this notebook, we will first try to find for each model the best parameters and the best accuracy too. We will do this to find out which model has the best accurancy with our dataset"
   ],
   "cell_type": "markdown",
   "metadata": {}
  },
  {
   "cell_type": "code",
   "execution_count": 4,
   "metadata": {},
   "outputs": [
    {
     "output_type": "execute_result",
     "data": {
      "text/plain": [
       "       LIMIT_BAL  SEX  EDUCATION  MARRIAGE  AGE  PAY_0  PAY_2  PAY_3  PAY_4  \\\n",
       "ID                                                                            \n",
       "1        20000.0    2          2         1   24      2      2     -1     -1   \n",
       "2       120000.0    2          2         2   26     -1      2      0      0   \n",
       "3        90000.0    2          2         2   34      0      0      0      0   \n",
       "4        50000.0    2          2         1   37      0      0      0      0   \n",
       "5        50000.0    1          2         1   57     -1      0     -1      0   \n",
       "...          ...  ...        ...       ...  ...    ...    ...    ...    ...   \n",
       "29996   220000.0    1          3         1   39      0      0      0      0   \n",
       "29997   150000.0    1          3         2   43     -1     -1     -1     -1   \n",
       "29998    30000.0    1          2         2   37      4      3      2     -1   \n",
       "29999    80000.0    1          3         1   41      1     -1      0      0   \n",
       "30000    50000.0    1          2         1   46      0      0      0      0   \n",
       "\n",
       "       PAY_5  ...  BILL_AMT6  PAY_AMT1  PAY_AMT2  PAY_AMT3  PAY_AMT4  \\\n",
       "ID            ...                                                      \n",
       "1         -2  ...        0.0       0.0     689.0       0.0       0.0   \n",
       "2          0  ...     3261.0       0.0    1000.0    1000.0    1000.0   \n",
       "3          0  ...    15549.0    1518.0    1500.0    1000.0    1000.0   \n",
       "4          0  ...    29547.0    2000.0    2019.0    1200.0    1100.0   \n",
       "5          0  ...    19131.0    2000.0   36681.0   10000.0    9000.0   \n",
       "...      ...  ...        ...       ...       ...       ...       ...   \n",
       "29996      0  ...    15980.0    8500.0   20000.0    5003.0    3047.0   \n",
       "29997      0  ...        0.0    1837.0    3526.0    8998.0     129.0   \n",
       "29998      0  ...    19357.0       0.0       0.0   22000.0    4200.0   \n",
       "29999      0  ...    48944.0   85900.0    3409.0    1178.0    1926.0   \n",
       "30000      0  ...    15313.0    2078.0    1800.0    1430.0    1000.0   \n",
       "\n",
       "       PAY_AMT5  PAY_AMT6  Mean_Payment_rate      Rate  Mean_Pay  \n",
       "ID                                                                \n",
       "1           0.0       0.0           0.800000  0.195650      -0.4  \n",
       "2           0.0    2000.0           0.193583  0.022350       0.6  \n",
       "3        1000.0    5000.0           0.083968  0.324878       0.0  \n",
       "4        1069.0    1000.0           0.039794  0.939800       0.0  \n",
       "5         689.0     679.0           0.471997  0.172340      -0.4  \n",
       "...         ...       ...                ...       ...       ...  \n",
       "29996    5000.0    1000.0           0.121471  0.858855       0.0  \n",
       "29997       0.0       0.0           0.807750  0.011220      -0.8  \n",
       "29998    2000.0    3100.0           0.272225  0.118833       1.6  \n",
       "29999   52964.0    1804.0           0.481511 -0.020563      -0.2  \n",
       "30000    1000.0    1000.0           0.042789  0.958580       0.0  \n",
       "\n",
       "[30000 rows x 26 columns]"
      ],
      "text/html": "<div>\n<style scoped>\n    .dataframe tbody tr th:only-of-type {\n        vertical-align: middle;\n    }\n\n    .dataframe tbody tr th {\n        vertical-align: top;\n    }\n\n    .dataframe thead th {\n        text-align: right;\n    }\n</style>\n<table border=\"1\" class=\"dataframe\">\n  <thead>\n    <tr style=\"text-align: right;\">\n      <th></th>\n      <th>LIMIT_BAL</th>\n      <th>SEX</th>\n      <th>EDUCATION</th>\n      <th>MARRIAGE</th>\n      <th>AGE</th>\n      <th>PAY_0</th>\n      <th>PAY_2</th>\n      <th>PAY_3</th>\n      <th>PAY_4</th>\n      <th>PAY_5</th>\n      <th>...</th>\n      <th>BILL_AMT6</th>\n      <th>PAY_AMT1</th>\n      <th>PAY_AMT2</th>\n      <th>PAY_AMT3</th>\n      <th>PAY_AMT4</th>\n      <th>PAY_AMT5</th>\n      <th>PAY_AMT6</th>\n      <th>Mean_Payment_rate</th>\n      <th>Rate</th>\n      <th>Mean_Pay</th>\n    </tr>\n    <tr>\n      <th>ID</th>\n      <th></th>\n      <th></th>\n      <th></th>\n      <th></th>\n      <th></th>\n      <th></th>\n      <th></th>\n      <th></th>\n      <th></th>\n      <th></th>\n      <th></th>\n      <th></th>\n      <th></th>\n      <th></th>\n      <th></th>\n      <th></th>\n      <th></th>\n      <th></th>\n      <th></th>\n      <th></th>\n      <th></th>\n    </tr>\n  </thead>\n  <tbody>\n    <tr>\n      <th>1</th>\n      <td>20000.0</td>\n      <td>2</td>\n      <td>2</td>\n      <td>1</td>\n      <td>24</td>\n      <td>2</td>\n      <td>2</td>\n      <td>-1</td>\n      <td>-1</td>\n      <td>-2</td>\n      <td>...</td>\n      <td>0.0</td>\n      <td>0.0</td>\n      <td>689.0</td>\n      <td>0.0</td>\n      <td>0.0</td>\n      <td>0.0</td>\n      <td>0.0</td>\n      <td>0.800000</td>\n      <td>0.195650</td>\n      <td>-0.4</td>\n    </tr>\n    <tr>\n      <th>2</th>\n      <td>120000.0</td>\n      <td>2</td>\n      <td>2</td>\n      <td>2</td>\n      <td>26</td>\n      <td>-1</td>\n      <td>2</td>\n      <td>0</td>\n      <td>0</td>\n      <td>0</td>\n      <td>...</td>\n      <td>3261.0</td>\n      <td>0.0</td>\n      <td>1000.0</td>\n      <td>1000.0</td>\n      <td>1000.0</td>\n      <td>0.0</td>\n      <td>2000.0</td>\n      <td>0.193583</td>\n      <td>0.022350</td>\n      <td>0.6</td>\n    </tr>\n    <tr>\n      <th>3</th>\n      <td>90000.0</td>\n      <td>2</td>\n      <td>2</td>\n      <td>2</td>\n      <td>34</td>\n      <td>0</td>\n      <td>0</td>\n      <td>0</td>\n      <td>0</td>\n      <td>0</td>\n      <td>...</td>\n      <td>15549.0</td>\n      <td>1518.0</td>\n      <td>1500.0</td>\n      <td>1000.0</td>\n      <td>1000.0</td>\n      <td>1000.0</td>\n      <td>5000.0</td>\n      <td>0.083968</td>\n      <td>0.324878</td>\n      <td>0.0</td>\n    </tr>\n    <tr>\n      <th>4</th>\n      <td>50000.0</td>\n      <td>2</td>\n      <td>2</td>\n      <td>1</td>\n      <td>37</td>\n      <td>0</td>\n      <td>0</td>\n      <td>0</td>\n      <td>0</td>\n      <td>0</td>\n      <td>...</td>\n      <td>29547.0</td>\n      <td>2000.0</td>\n      <td>2019.0</td>\n      <td>1200.0</td>\n      <td>1100.0</td>\n      <td>1069.0</td>\n      <td>1000.0</td>\n      <td>0.039794</td>\n      <td>0.939800</td>\n      <td>0.0</td>\n    </tr>\n    <tr>\n      <th>5</th>\n      <td>50000.0</td>\n      <td>1</td>\n      <td>2</td>\n      <td>1</td>\n      <td>57</td>\n      <td>-1</td>\n      <td>0</td>\n      <td>-1</td>\n      <td>0</td>\n      <td>0</td>\n      <td>...</td>\n      <td>19131.0</td>\n      <td>2000.0</td>\n      <td>36681.0</td>\n      <td>10000.0</td>\n      <td>9000.0</td>\n      <td>689.0</td>\n      <td>679.0</td>\n      <td>0.471997</td>\n      <td>0.172340</td>\n      <td>-0.4</td>\n    </tr>\n    <tr>\n      <th>...</th>\n      <td>...</td>\n      <td>...</td>\n      <td>...</td>\n      <td>...</td>\n      <td>...</td>\n      <td>...</td>\n      <td>...</td>\n      <td>...</td>\n      <td>...</td>\n      <td>...</td>\n      <td>...</td>\n      <td>...</td>\n      <td>...</td>\n      <td>...</td>\n      <td>...</td>\n      <td>...</td>\n      <td>...</td>\n      <td>...</td>\n      <td>...</td>\n      <td>...</td>\n      <td>...</td>\n    </tr>\n    <tr>\n      <th>29996</th>\n      <td>220000.0</td>\n      <td>1</td>\n      <td>3</td>\n      <td>1</td>\n      <td>39</td>\n      <td>0</td>\n      <td>0</td>\n      <td>0</td>\n      <td>0</td>\n      <td>0</td>\n      <td>...</td>\n      <td>15980.0</td>\n      <td>8500.0</td>\n      <td>20000.0</td>\n      <td>5003.0</td>\n      <td>3047.0</td>\n      <td>5000.0</td>\n      <td>1000.0</td>\n      <td>0.121471</td>\n      <td>0.858855</td>\n      <td>0.0</td>\n    </tr>\n    <tr>\n      <th>29997</th>\n      <td>150000.0</td>\n      <td>1</td>\n      <td>3</td>\n      <td>2</td>\n      <td>43</td>\n      <td>-1</td>\n      <td>-1</td>\n      <td>-1</td>\n      <td>-1</td>\n      <td>0</td>\n      <td>...</td>\n      <td>0.0</td>\n      <td>1837.0</td>\n      <td>3526.0</td>\n      <td>8998.0</td>\n      <td>129.0</td>\n      <td>0.0</td>\n      <td>0.0</td>\n      <td>0.807750</td>\n      <td>0.011220</td>\n      <td>-0.8</td>\n    </tr>\n    <tr>\n      <th>29998</th>\n      <td>30000.0</td>\n      <td>1</td>\n      <td>2</td>\n      <td>2</td>\n      <td>37</td>\n      <td>4</td>\n      <td>3</td>\n      <td>2</td>\n      <td>-1</td>\n      <td>0</td>\n      <td>...</td>\n      <td>19357.0</td>\n      <td>0.0</td>\n      <td>0.0</td>\n      <td>22000.0</td>\n      <td>4200.0</td>\n      <td>2000.0</td>\n      <td>3100.0</td>\n      <td>0.272225</td>\n      <td>0.118833</td>\n      <td>1.6</td>\n    </tr>\n    <tr>\n      <th>29999</th>\n      <td>80000.0</td>\n      <td>1</td>\n      <td>3</td>\n      <td>1</td>\n      <td>41</td>\n      <td>1</td>\n      <td>-1</td>\n      <td>0</td>\n      <td>0</td>\n      <td>0</td>\n      <td>...</td>\n      <td>48944.0</td>\n      <td>85900.0</td>\n      <td>3409.0</td>\n      <td>1178.0</td>\n      <td>1926.0</td>\n      <td>52964.0</td>\n      <td>1804.0</td>\n      <td>0.481511</td>\n      <td>-0.020563</td>\n      <td>-0.2</td>\n    </tr>\n    <tr>\n      <th>30000</th>\n      <td>50000.0</td>\n      <td>1</td>\n      <td>2</td>\n      <td>1</td>\n      <td>46</td>\n      <td>0</td>\n      <td>0</td>\n      <td>0</td>\n      <td>0</td>\n      <td>0</td>\n      <td>...</td>\n      <td>15313.0</td>\n      <td>2078.0</td>\n      <td>1800.0</td>\n      <td>1430.0</td>\n      <td>1000.0</td>\n      <td>1000.0</td>\n      <td>1000.0</td>\n      <td>0.042789</td>\n      <td>0.958580</td>\n      <td>0.0</td>\n    </tr>\n  </tbody>\n</table>\n<p>30000 rows × 26 columns</p>\n</div>"
     },
     "metadata": {},
     "execution_count": 4
    }
   ],
   "source": [
    "df = pd.read_csv('./data/final.csv')\n",
    "df.set_index('ID', inplace=True)\n",
    "Y = df['Target']\n",
    "df.drop('Target', inplace=True, axis=1)\n",
    "X = df\n",
    "X"
   ]
  },
  {
   "source": [
    "Before everything we have to train our dataset"
   ],
   "cell_type": "markdown",
   "metadata": {}
  },
  {
   "cell_type": "code",
   "execution_count": 5,
   "metadata": {},
   "outputs": [],
   "source": [
    "X_train, X_test, y_train, y_test = train_test_split(X, Y, test_size=0.3, random_state=41)"
   ]
  },
  {
   "source": [
    "Ok now since our training is completed lets create a parameters dictionary for each model that we want to use:"
   ],
   "cell_type": "markdown",
   "metadata": {}
  },
  {
   "cell_type": "code",
   "execution_count": 10,
   "metadata": {},
   "outputs": [],
   "source": [
    "param_rf = {\n",
    "    'n_estimators' : [100, 200, 400],\n",
    "    'max_depth': [4, 8, 12],\n",
    "    'min_samples_leaf': [0.1, 1, 3, 5],\n",
    "    'max_features' : ['log2', 'sqrt', None]\n",
    "}\n",
    "\n",
    "param_knn = {\n",
    "    'n_neighbors' : [1, 4, 6],\n",
    "    'weights' : ['uniform', 'distance'],\n",
    "    'algorithm' : ['auto', 'ball_tree', 'kd_tree'],\n",
    "    'leaf_size' : [10, 30, 59]\n",
    "}\n",
    "\n",
    "param_tree = {\n",
    "    'criterion' : ['gini', 'entropy'],\n",
    "    'max_depth' : [4, 8, 12],\n",
    "    'min_samples_leaf' : [1, 3, 5],\n",
    "    'max_features' : ['auto', 'sqrt', None]\n",
    "}\n",
    "\n",
    "param_lr = {\n",
    "    'penalty' : ['l1', 'l2', 'elasticnet', None],\n",
    "    'C' : [0.1, 0.5, 1, 2],\n",
    "    'fit_intercept': [True, False],\n",
    "    'solver' : ['newton-cg', 'lbfgs', 'liblinear', 'sag', 'saga']\n",
    "}\n",
    "\n",
    "param_mlp = {\n",
    "    'solver': ['lbfgs', 'sgd', 'adam'],\n",
    "    'max_iter': [100, 200, 300, 400 ],\n",
    "    'alpha' : [0.0001, 0.00001, 0.000001],\n",
    "    'hidden_layer_sizes' : [10, 50, 100],\n",
    "    'random_state' : [0,1,2,3,4]\n",
    "}\n",
    "params = [param_rf, param_knn, param_tree, param_lr, param_mlp]\n",
    "model = [ RandomForestClassifier(), KNeighborsClassifier(), tree.DecisionTreeClassifier(), LogisticRegression(), MLPClassifier()]\n",
    "name = ['Random Forest', 'KNN', 'Decision Tree', 'Logistic', 'MLP']"
   ]
  },
  {
   "source": [
    "We have created our parameters so now lets create our GridSearchCV and print each result's best"
   ],
   "cell_type": "markdown",
   "metadata": {}
  },
  {
   "cell_type": "code",
   "execution_count": 11,
   "metadata": {},
   "outputs": [
    {
     "output_type": "stream",
     "name": "stdout",
     "text": [
      "Random Forest : {'max_depth': 4, 'max_features': None, 'min_samples_leaf': 5, 'n_estimators': 200}\n",
      "Random Forest : RandomForestClassifier(max_depth=4, max_features=None, min_samples_leaf=5,\n",
      "                       n_estimators=200)\n",
      "Random Forest : 0.8201904761904762\n",
      "KNN : {'algorithm': 'kd_tree', 'leaf_size': 10, 'n_neighbors': 6, 'weights': 'uniform'}\n",
      "KNN : KNeighborsClassifier(algorithm='kd_tree', leaf_size=10, n_neighbors=6)\n",
      "KNN : 0.7713809523809524\n",
      "Decision Tree : {'criterion': 'gini', 'max_depth': 4, 'max_features': 'sqrt', 'min_samples_leaf': 3}\n",
      "Decision Tree : DecisionTreeClassifier(max_depth=4, max_features='sqrt', min_samples_leaf=3)\n",
      "Decision Tree : 0.8182857142857142\n",
      "Logistic : {'C': 0.1, 'fit_intercept': True, 'penalty': 'l2', 'solver': 'newton-cg'}\n",
      "Logistic : LogisticRegression(C=0.1, solver='newton-cg')\n",
      "Logistic : 0.808952380952381\n",
      "MLP : {'alpha': 0.0001, 'hidden_layer_sizes': 50, 'max_iter': 100, 'random_state': 3, 'solver': 'sgd'}\n",
      "MLP : MLPClassifier(hidden_layer_sizes=50, max_iter=100, random_state=3, solver='sgd')\n",
      "MLP : 0.7793809523809524\n"
     ]
    }
   ],
   "source": [
    "for i in range(5):    \n",
    "    grid = GridSearchCV(estimator= model[i],\n",
    "                            param_grid= params[i],\n",
    "                            cv= 3,\n",
    "                            scoring= 'accuracy',\n",
    "                            n_jobs= -1)\n",
    "    result = grid.fit(X_train, y_train)\n",
    "    print('{} : {}'.format(name[i], result.best_params_))\n",
    "    print('{} : {}'.format(name[i], result.best_estimator_))\n",
    "    print('{} : {}'.format(name[i], result.best_score_))"
   ]
  },
  {
   "source": [
    "So like we have just seen the best one for this model and these parameters is Random Forest with 82% of accuracy with max_depth = 4, max_features = None, min_samples_leaf = 5, n_estimators = 200"
   ],
   "cell_type": "markdown",
   "metadata": {}
  },
  {
   "cell_type": "code",
   "execution_count": null,
   "metadata": {},
   "outputs": [],
   "source": []
  }
 ]
}